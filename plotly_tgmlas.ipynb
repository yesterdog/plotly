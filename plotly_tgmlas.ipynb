{
 "cells": [
  {
   "cell_type": "code",
   "execution_count": 11,
   "metadata": {
    "collapsed": true
   },
   "outputs": [],
   "source": [
    "import plotly.plotly as py\n",
    "from plotly.graph_objs import *\n",
    "from plotly.offline import download_plotlyjs, init_notebook_mode, plot, iplot\n",
    "import pandas as pd\n",
    "mapbox_access_token = 'pk.eyJ1IjoieWVzdGVyZG9nIiwiYSI6ImNqZDBkNHJvbzU5MXkyem4wZ3B4bTkzengifQ.WTb12YvEIgBJ6fmoiLnR3A'"
   ]
  },
  {
   "cell_type": "code",
   "execution_count": 12,
   "metadata": {
    "collapsed": true
   },
   "outputs": [],
   "source": [
    "df = pd.read_csv(\"C:/Users/amarchendra/play_with_plotly/imputed_mlas.csv\")"
   ]
  },
  {
   "cell_type": "markdown",
   "metadata": {},
   "source": [
    "### plotly takes in dictionaries, so I have to create a list so I had to categorise , them according to party , so I can fill up some color into them later."
   ]
  },
  {
   "cell_type": "code",
   "execution_count": 13,
   "metadata": {},
   "outputs": [
    {
     "data": {
      "text/plain": [
       "TRS            56\n",
       "INC            25\n",
       "TDP            15\n",
       "AIMIM           7\n",
       "BJP             5\n",
       "YSRC            2\n",
       "BSP             1\n",
       "CPM             1\n",
       "CPL             1\n",
       "Independent     1\n",
       "Name: party, dtype: int64"
      ]
     },
     "execution_count": 13,
     "metadata": {},
     "output_type": "execute_result"
    }
   ],
   "source": [
    "party = df['party']\n",
    "party.value_counts()"
   ]
  },
  {
   "cell_type": "code",
   "execution_count": 14,
   "metadata": {
    "collapsed": true
   },
   "outputs": [],
   "source": [
    "inc=df[party==\"INC\"]\n",
    "trs=df[party==\"TRS\"]\n",
    "tdp=df[party==\"TDP\"]\n",
    "aimim=df[party==\"AIMIM\"]\n",
    "bjp=df[party==\"BJP\"]\n",
    "ysrc=df[party==\"YSRC\"]\n",
    "cpm=df[party==\"CPM\"]\n",
    "cpi=df[party==\"CPL\"]\n",
    "indi=df[party==\"Independent\"]\n",
    "bsp=df[party==\"BSP\"]"
   ]
  },
  {
   "cell_type": "code",
   "execution_count": 15,
   "metadata": {
    "collapsed": true
   },
   "outputs": [],
   "source": [
    "t_inc = (dict(\n",
    "  lat= inc['lat'],\n",
    "  lon= inc['long'],\n",
    "    marker= dict(size=7),\n",
    "    name= \"Congress\",\n",
    "    type= \"scattermapbox\"\n",
    "))\n",
    "\n",
    "t_trs= (dict(\n",
    "  lat= trs['lat'],\n",
    "  lon= trs['long'],\n",
    "    marker= dict(size=7),\n",
    "    name= \"T.R.S.\",\n",
    "    type= \"scattermapbox\"\n",
    "))\n",
    "t_tdp= (dict(\n",
    "  lat= tdp['lat'],\n",
    "  lon= tdp['long'],\n",
    "    marker= dict(size=7),\n",
    "    name= \"T.D.P.\",\n",
    "    type= \"scattermapbox\"\n",
    "))\n",
    "t_aimim= (dict(\n",
    "  lat= aimim['lat'],\n",
    "  lon= aimim['long'],\n",
    "    marker= dict(size=7),\n",
    "    name= \"Majlis\",\n",
    "    type= \"scattermapbox\"\n",
    "))\n",
    "t_bjp= (dict(\n",
    "  lat= bjp['lat'],\n",
    "  lon= bjp['long'],\n",
    "    marker= dict(size=7),\n",
    "    name= \"B.J.P.\",\n",
    "    type= \"scattermapbox\"\n",
    "))\n",
    "t_ysrc= (dict(\n",
    "  lat= ysrc['lat'],\n",
    "  lon= ysrc['long'],\n",
    "    marker= dict(size=7),\n",
    "    name= \"YSR_Congress\",\n",
    "    type= \"scattermapbox\"\n",
    "))\n",
    "t_cpm= (dict(\n",
    "  lat= cpm['lat'],\n",
    "  lon= cpm['long'],\n",
    "    marker= dict(size=7),\n",
    "    name= \"C.P.M.\",\n",
    "    type= \"scattermapbox\",\n",
    "    text=cpm['mla']\n",
    "))\n",
    "t_cpi= (dict(\n",
    "  lat= cpi['lat'],\n",
    "  lon= cpi['long'],\n",
    "    marker= dict(size=7),\n",
    "    name= \"C.P.I.\",\n",
    "    type= \"scattermapbox\",\n",
    "    text=cpi['mla']\n",
    "))\n",
    "t_indi= (dict(\n",
    "  lat= indi['lat'],\n",
    "  lon= indi['long'],\n",
    "    marker= dict(size=7),\n",
    "    name= \"Independent\",\n",
    "    type= \"scattermapbox\",\n",
    "    text=indi['mla']\n",
    "))\n",
    "t_bsp= (dict(\n",
    "  lat= bsp['lat'],\n",
    "  lon= bsp['long'],\n",
    "    mode = 'markers',\n",
    "    marker= dict(size=7),\n",
    "    name= \"B.S.P.\",\n",
    "    type= \"scattermapbox\",\n",
    "    text=bsp['mla']\n",
    "))\n",
    "data = Data([t_inc,t_trs,t_tdp,t_aimim,t_bjp,t_ysrc,t_cpm,t_cpi,t_indi,t_bsp])"
   ]
  },
  {
   "cell_type": "code",
   "execution_count": 16,
   "metadata": {},
   "outputs": [
    {
     "data": {
      "text/html": [
       "<iframe id=\"igraph\" scrolling=\"no\" style=\"border:none;\" seamless=\"seamless\" src=\"https://plot.ly/~yesterdog/9.embed\" height=\"510px\" width=\"600px\"></iframe>"
      ],
      "text/plain": [
       "<plotly.tools.PlotlyDisplay object>"
      ]
     },
     "execution_count": 16,
     "metadata": {},
     "output_type": "execute_result"
    }
   ],
   "source": [
    "layout = Layout(\n",
    "    autosize=True,\n",
    "    title='MLAs of Telangana',\n",
    "    width=600,\n",
    "    height=510,\n",
    "    hovermode='closest',\n",
    "    mapbox=dict(\n",
    "        accesstoken=mapbox_access_token,\n",
    "        bearing=0,\n",
    "        center=dict(\n",
    "            lat=18.1124,\n",
    "            lon=79.0193\n",
    "        ),\n",
    "        pitch=2,\n",
    "        zoom=5.713100665038856\n",
    "    ),\n",
    ")\n",
    "\n",
    "fig = dict(data=data, layout=layout)\n",
    "py.iplot(fig, filename='Mlas_on_map')\n",
    "\n"
   ]
  },
  {
   "cell_type": "code",
   "execution_count": 20,
   "metadata": {},
   "outputs": [
    {
     "data": {
      "text/html": [
       "<div>\n",
       "    <a href=\"https://plot.ly/~yesterdog/9/?share_key=VtrFUomZplfAcbYddbqts7\" target=\"_blank\" title=\"Mlas_on_map\" style=\"display: block; text-align: center;\"><img src=\"https://plot.ly/~yesterdog/9.png?share_key=VtrFUomZplfAcbYddbqts7\" alt=\"Mlas_on_map\" style=\"max-width: 100%;width: 600px;\"  width=\"600\" onerror=\"this.onerror=null;this.src='https://plot.ly/404.png';\" /></a>\n",
       "    <script data-plotly=\"yesterdog:9\" sharekey-plotly=\"VtrFUomZplfAcbYddbqts7\" src=\"https://plot.ly/embed.js\" async></script>\n",
       "</div>"
      ],
      "text/plain": [
       "<IPython.core.display.HTML object>"
      ]
     },
     "metadata": {},
     "output_type": "display_data"
    }
   ],
   "source": [
    "%%html\n",
    "<div>\n",
    "    <a href=\"https://plot.ly/~yesterdog/9/?share_key=VtrFUomZplfAcbYddbqts7\" target=\"_blank\" title=\"Mlas_on_map\" style=\"display: block; text-align: center;\"><img src=\"https://plot.ly/~yesterdog/9.png?share_key=VtrFUomZplfAcbYddbqts7\" alt=\"Mlas_on_map\" style=\"max-width: 100%;width: 600px;\"  width=\"600\" onerror=\"this.onerror=null;this.src='https://plot.ly/404.png';\" /></a>\n",
    "    <script data-plotly=\"yesterdog:9\" sharekey-plotly=\"VtrFUomZplfAcbYddbqts7\" src=\"https://plot.ly/embed.js\" async></script>\n",
    "</div>\n"
   ]
  },
  {
   "cell_type": "code",
   "execution_count": null,
   "metadata": {
    "collapsed": true
   },
   "outputs": [],
   "source": []
  },
  {
   "cell_type": "code",
   "execution_count": null,
   "metadata": {
    "collapsed": true
   },
   "outputs": [],
   "source": []
  }
 ],
 "metadata": {
  "kernelspec": {
   "display_name": "Python 3",
   "language": "python",
   "name": "python3"
  },
  "language_info": {
   "codemirror_mode": {
    "name": "ipython",
    "version": 3
   },
   "file_extension": ".py",
   "mimetype": "text/x-python",
   "name": "python",
   "nbconvert_exporter": "python",
   "pygments_lexer": "ipython3",
   "version": "3.6.3"
  }
 },
 "nbformat": 4,
 "nbformat_minor": 2
}
